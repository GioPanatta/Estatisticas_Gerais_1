{
 "cells": [
  {
   "cell_type": "markdown",
   "id": "b5a7defe",
   "metadata": {},
   "source": [
    "Estatísticas Gerais 1"
   ]
  },
  {
   "cell_type": "code",
   "execution_count": 1,
   "id": "40bc60c6",
   "metadata": {},
   "outputs": [],
   "source": [
    "import pandas as pd\n",
    "import random\n",
    "import numpy as np\n"
   ]
  },
  {
   "cell_type": "code",
   "execution_count": 2,
   "id": "6d65b6d8",
   "metadata": {},
   "outputs": [],
   "source": [
    "data = pd.read_csv('credit_data.csv')"
   ]
  },
  {
   "cell_type": "code",
   "execution_count": 3,
   "id": "7ce7b4a3",
   "metadata": {},
   "outputs": [
    {
     "data": {
      "text/plain": [
       "(2000, 5)"
      ]
     },
     "execution_count": 3,
     "metadata": {},
     "output_type": "execute_result"
    }
   ],
   "source": [
    "data.shape\n"
   ]
  },
  {
   "cell_type": "code",
   "execution_count": 4,
   "id": "26d47353",
   "metadata": {},
   "outputs": [
    {
     "data": {
      "text/html": [
       "<div>\n",
       "<style scoped>\n",
       "    .dataframe tbody tr th:only-of-type {\n",
       "        vertical-align: middle;\n",
       "    }\n",
       "\n",
       "    .dataframe tbody tr th {\n",
       "        vertical-align: top;\n",
       "    }\n",
       "\n",
       "    .dataframe thead th {\n",
       "        text-align: right;\n",
       "    }\n",
       "</style>\n",
       "<table border=\"1\" class=\"dataframe\">\n",
       "  <thead>\n",
       "    <tr style=\"text-align: right;\">\n",
       "      <th></th>\n",
       "      <th>i#clientid</th>\n",
       "      <th>income</th>\n",
       "      <th>age</th>\n",
       "      <th>loan</th>\n",
       "      <th>c#default</th>\n",
       "    </tr>\n",
       "  </thead>\n",
       "  <tbody>\n",
       "    <tr>\n",
       "      <th>0</th>\n",
       "      <td>1</td>\n",
       "      <td>66155.925095</td>\n",
       "      <td>59.017015</td>\n",
       "      <td>8106.532131</td>\n",
       "      <td>0</td>\n",
       "    </tr>\n",
       "    <tr>\n",
       "      <th>1</th>\n",
       "      <td>2</td>\n",
       "      <td>34415.153966</td>\n",
       "      <td>48.117153</td>\n",
       "      <td>6564.745018</td>\n",
       "      <td>0</td>\n",
       "    </tr>\n",
       "    <tr>\n",
       "      <th>2</th>\n",
       "      <td>3</td>\n",
       "      <td>57317.170063</td>\n",
       "      <td>63.108049</td>\n",
       "      <td>8020.953296</td>\n",
       "      <td>0</td>\n",
       "    </tr>\n",
       "    <tr>\n",
       "      <th>3</th>\n",
       "      <td>4</td>\n",
       "      <td>42709.534201</td>\n",
       "      <td>45.751972</td>\n",
       "      <td>6103.642260</td>\n",
       "      <td>0</td>\n",
       "    </tr>\n",
       "    <tr>\n",
       "      <th>4</th>\n",
       "      <td>5</td>\n",
       "      <td>66952.688845</td>\n",
       "      <td>18.584336</td>\n",
       "      <td>8770.099235</td>\n",
       "      <td>1</td>\n",
       "    </tr>\n",
       "  </tbody>\n",
       "</table>\n",
       "</div>"
      ],
      "text/plain": [
       "   i#clientid        income        age         loan  c#default\n",
       "0           1  66155.925095  59.017015  8106.532131          0\n",
       "1           2  34415.153966  48.117153  6564.745018          0\n",
       "2           3  57317.170063  63.108049  8020.953296          0\n",
       "3           4  42709.534201  45.751972  6103.642260          0\n",
       "4           5  66952.688845  18.584336  8770.099235          1"
      ]
     },
     "execution_count": 4,
     "metadata": {},
     "output_type": "execute_result"
    }
   ],
   "source": [
    "data.head()"
   ]
  },
  {
   "cell_type": "code",
   "execution_count": 5,
   "id": "ab81a42e",
   "metadata": {},
   "outputs": [
    {
     "data": {
      "text/plain": [
       "i#clientid    0\n",
       "income        0\n",
       "age           3\n",
       "loan          0\n",
       "c#default     0\n",
       "dtype: int64"
      ]
     },
     "execution_count": 5,
     "metadata": {},
     "output_type": "execute_result"
    }
   ],
   "source": [
    "data.isnull().sum()"
   ]
  },
  {
   "cell_type": "code",
   "execution_count": 6,
   "id": "91feea54",
   "metadata": {},
   "outputs": [],
   "source": [
    "data.dropna(inplace=True)"
   ]
  },
  {
   "cell_type": "code",
   "execution_count": 7,
   "id": "6e016757",
   "metadata": {},
   "outputs": [
    {
     "data": {
      "text/plain": [
       "i#clientid    0\n",
       "income        0\n",
       "age           0\n",
       "loan          0\n",
       "c#default     0\n",
       "dtype: int64"
      ]
     },
     "execution_count": 7,
     "metadata": {},
     "output_type": "execute_result"
    }
   ],
   "source": [
    "data.isnull().sum()"
   ]
  },
  {
   "cell_type": "code",
   "execution_count": 8,
   "id": "de9ec924",
   "metadata": {},
   "outputs": [
    {
     "data": {
      "text/plain": [
       "(1997, 5)"
      ]
     },
     "execution_count": 8,
     "metadata": {},
     "output_type": "execute_result"
    }
   ],
   "source": [
    "data.shape"
   ]
  },
  {
   "cell_type": "markdown",
   "id": "60ab0594",
   "metadata": {},
   "source": [
    "**Amostragem aleatória simples**"
   ]
  },
  {
   "cell_type": "code",
   "execution_count": 9,
   "id": "676dd9b1",
   "metadata": {},
   "outputs": [],
   "source": [
    "#função amostragem aleatória simples\n",
    "\n",
    "def amostragem_aleatoria_simples2(dataset, amostras, random_state=1):\n",
    "    return dataset.sample(n=amostras, random_state=random_state)"
   ]
  },
  {
   "cell_type": "code",
   "execution_count": 10,
   "id": "19895796",
   "metadata": {},
   "outputs": [
    {
     "data": {
      "text/plain": [
       "(1000, 5)"
      ]
     },
     "execution_count": 10,
     "metadata": {},
     "output_type": "execute_result"
    }
   ],
   "source": [
    "amostragem_aleatoria_simples = amostragem_aleatoria_simples2(data, 1000)\n",
    "amostragem_aleatoria_simples.shape"
   ]
  },
  {
   "cell_type": "markdown",
   "id": "64d07394",
   "metadata": {},
   "source": [
    "**Amostragem Sistemática**"
   ]
  },
  {
   "cell_type": "code",
   "execution_count": 11,
   "id": "888605ff",
   "metadata": {},
   "outputs": [],
   "source": [
    "# Função amostra sistemática\n",
    "\n",
    "def amostragem_sistematica2(dataset, amostras):\n",
    "    intervalo = len(dataset) // amostras\n",
    "    random.seed(42)\n",
    "    inicio = random.randint(0, intervalo)\n",
    "    indices = np.arange(inicio, len(dataset), step=intervalo)\n",
    "    indices = indices[:amostras]\n",
    "    amostra_sistematica = dataset.iloc[indices]\n",
    "    return amostra_sistematica"
   ]
  },
  {
   "cell_type": "code",
   "execution_count": 12,
   "id": "f7782d6a",
   "metadata": {},
   "outputs": [
    {
     "data": {
      "text/plain": [
       "(1000, 5)"
      ]
     },
     "execution_count": 12,
     "metadata": {},
     "output_type": "execute_result"
    }
   ],
   "source": [
    "amostragem_sistematica = amostragem_sistematica2(data, 1000)\n",
    "amostragem_sistematica.shape"
   ]
  },
  {
   "cell_type": "markdown",
   "id": "6c9990bd",
   "metadata": {},
   "source": [
    "**Amostragem por Agrupamento**"
   ]
  },
  {
   "cell_type": "code",
   "execution_count": 13,
   "id": "632ec99d",
   "metadata": {},
   "outputs": [],
   "source": [
    "#Amostragem por agrupamento\n",
    "\n",
    "import random\n",
    "\n",
    "def amostragem_agrupamento2(dataset, numero_grupos):\n",
    "    intervalo = len(dataset) // numero_grupos\n",
    "    grupos = []\n",
    "    \n",
    "    id_grupo = 0\n",
    "    contagem = 0\n",
    "    \n",
    "    for _ in dataset.iterrows():\n",
    "        grupos.append(id_grupo)\n",
    "        contagem += 1\n",
    "        if contagem >= intervalo:\n",
    "            contagem = 0\n",
    "            id_grupo += 1\n",
    "            \n",
    "    dataset['grupo'] = grupos\n",
    "    grupo_selecionado = random.randint(0, numero_grupos -1)\n",
    "        \n",
    "    return dataset[dataset['grupo'] == grupo_selecionado]"
   ]
  },
  {
   "cell_type": "code",
   "execution_count": 14,
   "id": "a5106635",
   "metadata": {},
   "outputs": [
    {
     "data": {
      "text/plain": [
       "(199, 6)"
      ]
     },
     "execution_count": 14,
     "metadata": {},
     "output_type": "execute_result"
    }
   ],
   "source": [
    "amostragem_agrupamento = amostragem_agrupamento2(data, 10)\n",
    "amostragem_agrupamento.shape"
   ]
  },
  {
   "cell_type": "markdown",
   "id": "ce11b84a",
   "metadata": {},
   "source": [
    "**Amostragem Reservatório**"
   ]
  },
  {
   "cell_type": "code",
   "execution_count": 15,
   "id": "b189dde5",
   "metadata": {},
   "outputs": [],
   "source": [
    "import random\n",
    "\n",
    "def amostragem_reservatorio2(dataset, amostras):\n",
    "    tamanho = len(dataset)\n",
    "    reservatorio = []\n",
    "\n",
    "    # Inicializa o reservatório com os primeiros 'amostras' índices\n",
    "    for i in range(amostras):\n",
    "        reservatorio.append(i)\n",
    "\n",
    "    # Amostragem de reservatório para o restante dos itens\n",
    "    for i in range(amostras, tamanho):\n",
    "        j = random.randrange(i + 1)\n",
    "        if j < amostras:\n",
    "            reservatorio[j] = i\n",
    "\n",
    "    # Retorna as linhas do DataFrame correspondentes aos índices no reservatório\n",
    "    return dataset.iloc[reservatorio]\n"
   ]
  },
  {
   "cell_type": "code",
   "execution_count": 16,
   "id": "85784076",
   "metadata": {},
   "outputs": [
    {
     "data": {
      "text/plain": [
       "(1000, 6)"
      ]
     },
     "execution_count": 16,
     "metadata": {},
     "output_type": "execute_result"
    }
   ],
   "source": [
    "amostragem_reservatorio = amostragem_reservatorio2(data, 1000)\n",
    "amostragem_reservatorio.shape"
   ]
  },
  {
   "cell_type": "markdown",
   "id": "ab272c89",
   "metadata": {},
   "source": [
    "**Amostragem Estratificada**"
   ]
  },
  {
   "cell_type": "code",
   "execution_count": 17,
   "id": "92274025",
   "metadata": {},
   "outputs": [
    {
     "data": {
      "text/plain": [
       "0.5007511266900351"
      ]
     },
     "execution_count": 17,
     "metadata": {},
     "output_type": "execute_result"
    }
   ],
   "source": [
    "#Encontrando a porcentagem de 1000 entradas em relação ao DF\n",
    "1000 / len(data)"
   ]
  },
  {
   "cell_type": "code",
   "execution_count": 18,
   "id": "9239ff18",
   "metadata": {},
   "outputs": [
    {
     "data": {
      "text/plain": [
       "0    1714\n",
       "1     283\n",
       "Name: c#default, dtype: int64"
      ]
     },
     "execution_count": 18,
     "metadata": {},
     "output_type": "execute_result"
    }
   ],
   "source": [
    "data['c#default'].value_counts()"
   ]
  },
  {
   "cell_type": "code",
   "execution_count": 21,
   "id": "3ede59ad",
   "metadata": {},
   "outputs": [],
   "source": [
    "from sklearn.model_selection import StratifiedShuffleSplit"
   ]
  },
  {
   "cell_type": "code",
   "execution_count": 22,
   "id": "3e4c781e",
   "metadata": {},
   "outputs": [],
   "source": [
    "def amostragem_estratificada2(dataset, percentual): \n",
    "\n",
    "    split = StratifiedShuffleSplit(test_size=percentual, random_state=1)\n",
    "    for _, y in split.split(dataset, dataset['c#default']):\n",
    "        df_y = dataset.iloc[y]\n",
    "    return df_y"
   ]
  },
  {
   "cell_type": "code",
   "execution_count": 23,
   "id": "573033d9",
   "metadata": {},
   "outputs": [
    {
     "data": {
      "text/plain": [
       "(1000, 6)"
      ]
     },
     "execution_count": 23,
     "metadata": {},
     "output_type": "execute_result"
    }
   ],
   "source": [
    "amostragem_estratificada = amostragem_estratificada2(data,0.5007511266900351 )\n",
    "amostragem_estratificada.shape"
   ]
  },
  {
   "cell_type": "markdown",
   "id": "87fb954d",
   "metadata": {},
   "source": [
    "**Comparando as médias de age, income e loan entre todas as amostragens e o DF original**\n"
   ]
  },
  {
   "cell_type": "code",
   "execution_count": 24,
   "id": "284e2296",
   "metadata": {},
   "outputs": [
    {
     "data": {
      "text/plain": [
       "age          40.807559\n",
       "income    45333.864334\n",
       "loan       4445.487716\n",
       "dtype: float64"
      ]
     },
     "execution_count": 24,
     "metadata": {},
     "output_type": "execute_result"
    }
   ],
   "source": [
    "medias_df_origial = data[['age', 'income', 'loan']].mean()\n",
    "medias_df_origial\n"
   ]
  },
  {
   "cell_type": "code",
   "execution_count": 25,
   "id": "070a4008",
   "metadata": {},
   "outputs": [
    {
     "data": {
      "text/plain": [
       "age          40.538799\n",
       "income    45564.054622\n",
       "loan       4293.552550\n",
       "dtype: float64"
      ]
     },
     "execution_count": 25,
     "metadata": {},
     "output_type": "execute_result"
    }
   ],
   "source": [
    "medias_amostragem_aleatoria_simples = amostragem_aleatoria_simples[['age', 'income', 'loan']].mean()\n",
    "medias_amostragem_aleatoria_simples"
   ]
  },
  {
   "cell_type": "code",
   "execution_count": 26,
   "id": "e9ad9c3e",
   "metadata": {},
   "outputs": [
    {
     "data": {
      "text/plain": [
       "age          41.049792\n",
       "income    44885.712247\n",
       "loan       4390.351657\n",
       "dtype: float64"
      ]
     },
     "execution_count": 26,
     "metadata": {},
     "output_type": "execute_result"
    }
   ],
   "source": [
    "medias_amostragem_sistematica = amostragem_sistematica[['age', 'income', 'loan']].mean()\n",
    "medias_amostragem_sistematica"
   ]
  },
  {
   "cell_type": "code",
   "execution_count": 27,
   "id": "852e5a15",
   "metadata": {},
   "outputs": [
    {
     "data": {
      "text/plain": [
       "age          39.836889\n",
       "income    44121.995063\n",
       "loan       4358.447221\n",
       "dtype: float64"
      ]
     },
     "execution_count": 27,
     "metadata": {},
     "output_type": "execute_result"
    }
   ],
   "source": [
    "medias_amostragem_agrupamento =amostragem_agrupamento[['age', 'income', 'loan']].mean()\n",
    "medias_amostragem_agrupamento"
   ]
  },
  {
   "cell_type": "code",
   "execution_count": 28,
   "id": "13acfc63",
   "metadata": {},
   "outputs": [
    {
     "data": {
      "text/plain": [
       "age          41.063346\n",
       "income    45577.508590\n",
       "loan       4507.002790\n",
       "dtype: float64"
      ]
     },
     "execution_count": 28,
     "metadata": {},
     "output_type": "execute_result"
    }
   ],
   "source": [
    "medias_amostragem_estratificada = amostragem_estratificada[['age', 'income', 'loan']].mean()\n",
    "medias_amostragem_estratificada"
   ]
  },
  {
   "cell_type": "markdown",
   "id": "6a2cf073",
   "metadata": {},
   "source": [
    "**Pudemos observar que em todos os resultados obtivemos aproximações maiores em uma ou mais variáveis dependendo do tipo de amostra. É importante destacar que é esperado que nenhum algoritmo é de capturar uma amostragem com precisão de 100%, visto que estamos lidando com aproximações. Portanto, devemos nos atentar ao objetivo do negócio para escolher a amostragem mais apropriada. Por exemplo: se quisermos uma amostragem que represente a idade média com a melhor aproximação, a Amostragem Aleatória Simples parece mais apropriada com a média de 40.538799. Por outro lado, se pretendemos ter maior precisão em loan (empréstimo) a Amostragem Sistemática parece a melhor escolha com a média de loan em 4390.351657**"
   ]
  },
  {
   "cell_type": "code",
   "execution_count": null,
   "id": "7489204b",
   "metadata": {},
   "outputs": [],
   "source": []
  }
 ],
 "metadata": {
  "kernelspec": {
   "display_name": "Python 3 (ipykernel)",
   "language": "python",
   "name": "python3"
  },
  "language_info": {
   "codemirror_mode": {
    "name": "ipython",
    "version": 3
   },
   "file_extension": ".py",
   "mimetype": "text/x-python",
   "name": "python",
   "nbconvert_exporter": "python",
   "pygments_lexer": "ipython3",
   "version": "3.10.9"
  }
 },
 "nbformat": 4,
 "nbformat_minor": 5
}
